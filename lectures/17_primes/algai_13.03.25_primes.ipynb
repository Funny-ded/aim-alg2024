{
 "cells": [
  {
   "cell_type": "code",
   "execution_count": 4,
   "metadata": {},
   "outputs": [
    {
     "name": "stdout",
     "output_type": "stream",
     "text": [
      "78498\n",
      "[127, 131, 137, 139, 149, 151, 157, 163, 167, 173]\n",
      "[994549, 994559, 994561, 994571, 994579, 994583, 994603, 994621, 994657, 994663]\n",
      "0.43402791023254395\n"
     ]
    }
   ],
   "source": [
    "import time\n",
    "\n",
    "def generate_primes(k):\n",
    "    primes = []\n",
    "    \n",
    "    for i in range(2, k + 1):\n",
    "        can_be_prime = True\n",
    "        \n",
    "        sqrt = i**0.5\n",
    "        \n",
    "        for p in primes:\n",
    "            if (p > sqrt):\n",
    "                break\n",
    "\n",
    "            if (i % p == 0):\n",
    "                can_be_prime = False\n",
    "                break\n",
    "                    \n",
    "        if (can_be_prime == True):\n",
    "            primes.append(i)\n",
    "    \n",
    "    return primes\n",
    "\n",
    "start_time = time.time()\n",
    "primes = generate_primes(1000000)\n",
    "time_elapsed = time.time() - start_time\n",
    "\n",
    "print(len(primes))\n",
    "print(primes[30:40])\n",
    "print(primes[78100:78110])\n",
    "print(time_elapsed)"
   ]
  },
  {
   "cell_type": "markdown",
   "metadata": {},
   "source": [
    "$k | n$\n",
    "\n",
    "$k >= \\sqrt{n}$\n",
    "\n",
    "$\\frac{n}{k} = m \\in \\mathbb{N} \\Rightarrow \\frac{n}{k} <= \\sqrt(n)$\n",
    "\n",
    "Сравним асимптотики алгоритмов с оптимизацией и без (n - длина входа, т.е. битовая длина числа k)\n",
    "\n",
    "Без оптимизации:\n",
    "\n",
    "$O(2^n \\frac{2^n}{\\ln{2^n}})$\n",
    "\n",
    "$O(2^n \\frac{2^n}{n})$\n",
    "\n",
    "$O(\\frac{2^{2n}}{n})$\n",
    "\n",
    "С оптимизацией:\n",
    "\n",
    "$O(2^n \\frac{\\sqrt{2^n}}{\\ln{\\sqrt{2^n}}})$\n",
    "\n",
    "$O(2^n \\frac{2^{\\frac{n}{2}}}{\\frac{n}{2}})$\n",
    "\n",
    "$O(\\frac{2^{\\frac{3n}{2}}}{n})$\n",
    "\n",
    "1\n",
    "3\n",
    "7\n",
    "9"
   ]
  },
  {
   "cell_type": "code",
   "execution_count": null,
   "metadata": {},
   "outputs": [],
   "source": [
    "#list\n",
    "l = [1, 2, 3, 4, 5, 6, 7, 8]\n",
    "\n",
    "print(l)\n",
    "print(l[2:5])"
   ]
  },
  {
   "cell_type": "code",
   "execution_count": 8,
   "metadata": {},
   "outputs": [
    {
     "name": "stdout",
     "output_type": "stream",
     "text": [
      "6 8 ; 13 + 23 =  36\n"
     ]
    }
   ],
   "source": [
    "#метод двух указателей (он же двух индексов)\n",
    "def find_elem_as_sum(arr, x):\n",
    "    i, j = 0, len(arr) - 1\n",
    "    \n",
    "    while (i < j):\n",
    "        s = arr[i] + arr[j]\n",
    "        \n",
    "        if (s == x):\n",
    "            return True, i, j\n",
    "        \n",
    "        elif (s > x):\n",
    "            j -= 1\n",
    "            \n",
    "        else:\n",
    "            i += 1\n",
    "    \n",
    "    return False, -1, -1\n",
    "\n",
    "arr = [1, 3, 5, 6, 7, 7, 13, 15, 23, 25, 26, 27]\n",
    "#arr = [1, 3, 5, 6, 7]\n",
    "x = 36 #9\n",
    "\n",
    "success, i, j = find_elem_as_sum(arr, x)\n",
    "\n",
    "print(i, j, f\"; {arr[i]} + {arr[j]} = \", arr[i] + arr[j])"
   ]
  },
  {
   "cell_type": "code",
   "execution_count": 10,
   "metadata": {},
   "outputs": [
    {
     "name": "stdout",
     "output_type": "stream",
     "text": [
      "[1, 2, 3, 3, 4, 4, 5, 5, 6, 6, 7, 7, 9]\n"
     ]
    }
   ],
   "source": [
    "def merge(a, b):\n",
    "    i, j = 0, 0\n",
    "    merged = []\n",
    "    \n",
    "    while(i != len(a) or j != len(b)):\n",
    "        if (i == len(a)):\n",
    "            merged.append(b[j])\n",
    "            j += 1\n",
    "        \n",
    "        elif (j == len(b)):\n",
    "            merged.append(a[i])\n",
    "            i += 1\n",
    "        \n",
    "        else:\n",
    "            if (a[i] < b[j]):\n",
    "                merged.append(a[i])\n",
    "                i += 1\n",
    "            \n",
    "            else:\n",
    "                merged.append(b[j])\n",
    "                j += 1\n",
    "    \n",
    "    return merged\n",
    "\n",
    "#a = [1, 3, 5, 7, 9]\n",
    "#b = [2, 4, 4, 6]\n",
    "#print(merge(a, b))\n",
    "\n",
    "# 0 1 2 3\n",
    "\n",
    "def merge_sort(arr):\n",
    "    if (len(arr) <= 1):\n",
    "        return arr\n",
    "    \n",
    "    #recursive calls\n",
    "    m = len(arr) // 2\n",
    "    \n",
    "    left_sorted = merge_sort(arr[:m])\n",
    "    right_sorted = merge_sort(arr[m:])\n",
    "    \n",
    "    #calling merge procedure\n",
    "    result = merge(left_sorted, right_sorted)\n",
    "    \n",
    "    return result\n",
    "\n",
    "# def merge_sort(arr):\n",
    "#     if (len(arr) <= 1): return arr\n",
    "    \n",
    "#     left_sorted = merge_sort(arr[:len(arr) // 2])\n",
    "#     right_sorted = merge_sort(arr[len(arr) // 2:])\n",
    "    \n",
    "#     result = merge(left_sorted, right_sorted)\n",
    "    \n",
    "#     return result\n",
    "\n",
    "arr = [4, 6, 7, 5, 4, 5, 3, 6, 7, 9, 2, 3, 1]\n",
    "\n",
    "print(merge_sort(arr))"
   ]
  },
  {
   "cell_type": "markdown",
   "metadata": {},
   "source": [
    "На вход положительное целое число y\n",
    "\n",
    "Есть ли такой x < y, что для z = x xor y треугольник со сторонами x, y, z невырожден?\n",
    "\n",
    "0 xor 0 = 0\n",
    "0 xor 1 = 1\n",
    "1 xor 0 = 1\n",
    "1 xor 1 = 0\n",
    "\n",
    "Невырожденный треугольник:\n",
    "a + b > c\n",
    "a + c > b\n",
    "b + c > a\n",
    "\n",
    "y = 1101010\n",
    "x = 1010101\n",
    "z = 0111111"
   ]
  },
  {
   "cell_type": "code",
   "execution_count": 15,
   "metadata": {},
   "outputs": [
    {
     "name": "stdout",
     "output_type": "stream",
     "text": [
      "1110\n",
      "0111\n",
      "1001\n"
     ]
    }
   ],
   "source": [
    "a = 14\n",
    "b = 7\n",
    "c = a ^ b\n",
    "\n",
    "print(format(a, 'b'))\n",
    "print(\"0\" + format(b, 'b'))\n",
    "print(format(c, 'b'))"
   ]
  },
  {
   "cell_type": "code",
   "execution_count": null,
   "metadata": {},
   "outputs": [],
   "source": []
  }
 ],
 "metadata": {
  "kernelspec": {
   "display_name": "Python 3",
   "language": "python",
   "name": "python3"
  },
  "language_info": {
   "codemirror_mode": {
    "name": "ipython",
    "version": 3
   },
   "file_extension": ".py",
   "mimetype": "text/x-python",
   "name": "python",
   "nbconvert_exporter": "python",
   "pygments_lexer": "ipython3",
   "version": "3.13.1"
  }
 },
 "nbformat": 4,
 "nbformat_minor": 2
}
