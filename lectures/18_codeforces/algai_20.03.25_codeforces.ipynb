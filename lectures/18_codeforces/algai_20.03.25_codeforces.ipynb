{
 "cells": [
  {
   "cell_type": "code",
   "execution_count": null,
   "metadata": {},
   "outputs": [
    {
     "name": "stdout",
     "output_type": "stream",
     "text": [
      "0\n"
     ]
    }
   ],
   "source": [
    "k = 9\n",
    "arr = [1, 3, 4, 5, 6, 10]\n",
    "\n",
    "i, j = 0, len(arr) - 1\n",
    "\n",
    "score = 0\n",
    "\n",
    "while(i < j):\n",
    "    el_sum = arr[i] + arr[j]\n",
    "    \n",
    "    if (el_sum == k):\n",
    "        score += 1\n",
    "        i += 1\n",
    "        j -= 1\n",
    "    \n",
    "    elif (el_sum > k):\n",
    "        j -= 1\n",
    "    \n",
    "    else:\n",
    "        i += 1\n",
    "\n",
    "print(score)"
   ]
  },
  {
   "cell_type": "code",
   "execution_count": null,
   "metadata": {},
   "outputs": [],
   "source": []
  }
 ],
 "metadata": {
  "kernelspec": {
   "display_name": "Python 3",
   "language": "python",
   "name": "python3"
  },
  "language_info": {
   "codemirror_mode": {
    "name": "ipython",
    "version": 3
   },
   "file_extension": ".py",
   "mimetype": "text/x-python",
   "name": "python",
   "nbconvert_exporter": "python",
   "pygments_lexer": "ipython3",
   "version": "3.13.1"
  }
 },
 "nbformat": 4,
 "nbformat_minor": 2
}
